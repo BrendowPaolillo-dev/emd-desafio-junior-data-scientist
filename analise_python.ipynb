{
 "cells": [
  {
   "cell_type": "markdown",
   "metadata": {},
   "source": [
    "# Desafio Técnico - Cientista de Dados Júnior\n",
    "### Localização de chamados do 1746\n",
    "\n",
    "##### Autor: Brendow Paolillo\n",
    "Fork: https://github.com/BrendowPaolillo-dev/emd-desafio-junior-data-scientist"
   ]
  },
  {
   "cell_type": "markdown",
   "metadata": {},
   "source": [
    "Importando a biblioteca ``basedosdados``"
   ]
  },
  {
   "cell_type": "code",
   "execution_count": 1,
   "metadata": {},
   "outputs": [],
   "source": [
    "import basedosdados as bd"
   ]
  },
  {
   "cell_type": "markdown",
   "metadata": {},
   "source": [
    "Realizando a consulta e armazenando os dados de ``rede_hoteleira_ocupacao_eventos`` em um dataframe"
   ]
  },
  {
   "cell_type": "code",
   "execution_count": 32,
   "metadata": {},
   "outputs": [
    {
     "name": "stderr",
     "output_type": "stream",
     "text": [
      "Downloading: 100%|██████████| 4/4 [00:00<00:00,  7.06rows/s]\n"
     ]
    }
   ],
   "source": [
    "query = \"SELECT * FROM `datario.turismo_fluxo_visitantes.rede_hoteleira_ocupacao_eventos`\"\n",
    "df_hoteleira = bd.read_sql(query, billing_project_id=\"teste-dados-rio-brendow\")"
   ]
  },
  {
   "cell_type": "markdown",
   "metadata": {},
   "source": [
    "### Questão 1\n",
    "\n",
    "Quantos chamados foram abertos no dia 01/04/2023?"
   ]
  },
  {
   "cell_type": "markdown",
   "metadata": {},
   "source": [
    "Realizando a consulta e armazenando os dados de ``chamado_1746`` em um dataframe, estes que são referentes ao dia ``01/04/2023``:"
   ]
  },
  {
   "cell_type": "code",
   "execution_count": null,
   "metadata": {},
   "outputs": [
    {
     "name": "stderr",
     "output_type": "stream",
     "text": [
      "Downloading: 100%|██████████| 73/73 [00:00<00:00, 219.01rows/s]\n"
     ]
    }
   ],
   "source": [
    "query = \"SELECT * FROM `datario.administracao_servicos_publicos.chamado_1746` WHERE DATE(data_inicio) = DATE('2023-04-01')\"\n",
    "df_chamado = bd.read_sql(query, billing_project_id=\"teste-dados-rio-brendow\")"
   ]
  },
  {
   "cell_type": "code",
   "execution_count": 8,
   "metadata": {},
   "outputs": [
    {
     "data": {
      "text/html": [
       "<div>\n",
       "<style scoped>\n",
       "    .dataframe tbody tr th:only-of-type {\n",
       "        vertical-align: middle;\n",
       "    }\n",
       "\n",
       "    .dataframe tbody tr th {\n",
       "        vertical-align: top;\n",
       "    }\n",
       "\n",
       "    .dataframe thead th {\n",
       "        text-align: right;\n",
       "    }\n",
       "</style>\n",
       "<table border=\"1\" class=\"dataframe\">\n",
       "  <thead>\n",
       "    <tr style=\"text-align: right;\">\n",
       "      <th></th>\n",
       "      <th>id_chamado</th>\n",
       "      <th>data_inicio</th>\n",
       "      <th>data_fim</th>\n",
       "      <th>id_bairro</th>\n",
       "      <th>id_territorialidade</th>\n",
       "      <th>id_logradouro</th>\n",
       "      <th>numero_logradouro</th>\n",
       "      <th>id_unidade_organizacional</th>\n",
       "      <th>nome_unidade_organizacional</th>\n",
       "      <th>id_unidade_organizacional_mae</th>\n",
       "      <th>...</th>\n",
       "      <th>tempo_prazo</th>\n",
       "      <th>prazo_unidade</th>\n",
       "      <th>prazo_tipo</th>\n",
       "      <th>dentro_prazo</th>\n",
       "      <th>situacao</th>\n",
       "      <th>tipo_situacao</th>\n",
       "      <th>justificativa_status</th>\n",
       "      <th>reclamacoes</th>\n",
       "      <th>data_particao</th>\n",
       "      <th>geometry</th>\n",
       "    </tr>\n",
       "  </thead>\n",
       "  <tbody>\n",
       "    <tr>\n",
       "      <th>0</th>\n",
       "      <td>18516246</td>\n",
       "      <td>2023-04-01 00:55:38</td>\n",
       "      <td>2023-04-01 00:55:38</td>\n",
       "      <td>None</td>\n",
       "      <td>None</td>\n",
       "      <td>None</td>\n",
       "      <td>&lt;NA&gt;</td>\n",
       "      <td>1706</td>\n",
       "      <td>TR/SUBOP/CFT - Coordenadoria de Fiscalização e...</td>\n",
       "      <td>SMTR - Secretaria Municipal de Transportes</td>\n",
       "      <td>...</td>\n",
       "      <td>&lt;NA&gt;</td>\n",
       "      <td>D</td>\n",
       "      <td>F</td>\n",
       "      <td>No prazo</td>\n",
       "      <td>Encerrado</td>\n",
       "      <td>Atendido parcialmente</td>\n",
       "      <td>None</td>\n",
       "      <td>0</td>\n",
       "      <td>2023-04-01</td>\n",
       "      <td>None</td>\n",
       "    </tr>\n",
       "    <tr>\n",
       "      <th>1</th>\n",
       "      <td>18516254</td>\n",
       "      <td>2023-04-01 01:08:04</td>\n",
       "      <td>2023-04-01 01:43:38</td>\n",
       "      <td>1</td>\n",
       "      <td>1</td>\n",
       "      <td>62364</td>\n",
       "      <td>60</td>\n",
       "      <td>70</td>\n",
       "      <td>GM-RIO - Guarda Municipal do Rio de Janeiro</td>\n",
       "      <td>GM-RIO - Guarda Municipal do Rio de Janeiro</td>\n",
       "      <td>...</td>\n",
       "      <td>&lt;NA&gt;</td>\n",
       "      <td>H</td>\n",
       "      <td>F</td>\n",
       "      <td>No prazo</td>\n",
       "      <td>Encerrado</td>\n",
       "      <td>Não constatado</td>\n",
       "      <td>None</td>\n",
       "      <td>0</td>\n",
       "      <td>2023-04-01</td>\n",
       "      <td>None</td>\n",
       "    </tr>\n",
       "    <tr>\n",
       "      <th>2</th>\n",
       "      <td>18516194</td>\n",
       "      <td>2023-04-01 00:04:59</td>\n",
       "      <td>NaT</td>\n",
       "      <td>14</td>\n",
       "      <td>1</td>\n",
       "      <td>76992</td>\n",
       "      <td>120</td>\n",
       "      <td>1240</td>\n",
       "      <td>CCU - 1º Serviço de Fiscalização</td>\n",
       "      <td>CCU - Coordenadoria de Controle Urbano</td>\n",
       "      <td>...</td>\n",
       "      <td>&lt;NA&gt;</td>\n",
       "      <td>D</td>\n",
       "      <td>F</td>\n",
       "      <td>Fora do prazo</td>\n",
       "      <td>Não Encerrado</td>\n",
       "      <td>Andamento</td>\n",
       "      <td>None</td>\n",
       "      <td>0</td>\n",
       "      <td>2023-04-01</td>\n",
       "      <td>POINT(-43.186679 -22.921335)</td>\n",
       "    </tr>\n",
       "    <tr>\n",
       "      <th>3</th>\n",
       "      <td>18516238</td>\n",
       "      <td>2023-04-01 00:38:22</td>\n",
       "      <td>NaT</td>\n",
       "      <td>5</td>\n",
       "      <td>1</td>\n",
       "      <td>60483</td>\n",
       "      <td>319</td>\n",
       "      <td>1258</td>\n",
       "      <td>CFE - Coordenação de Feiras</td>\n",
       "      <td>SEOP - Secretaria Municipal de Ordem Pública</td>\n",
       "      <td>...</td>\n",
       "      <td>&lt;NA&gt;</td>\n",
       "      <td>D</td>\n",
       "      <td>F</td>\n",
       "      <td>Fora do prazo</td>\n",
       "      <td>Não Encerrado</td>\n",
       "      <td>Andamento</td>\n",
       "      <td>None</td>\n",
       "      <td>0</td>\n",
       "      <td>2023-04-01</td>\n",
       "      <td>POINT(-43.1882526 -22.9122295)</td>\n",
       "    </tr>\n",
       "    <tr>\n",
       "      <th>4</th>\n",
       "      <td>18516208</td>\n",
       "      <td>2023-04-01 00:14:00</td>\n",
       "      <td>NaT</td>\n",
       "      <td>14</td>\n",
       "      <td>1</td>\n",
       "      <td>76992</td>\n",
       "      <td>90</td>\n",
       "      <td>82</td>\n",
       "      <td>CLF - Coordenadoria de Licenciamento e Fiscali...</td>\n",
       "      <td>CLF - Coordenadoria de Licenciamento e Fiscali...</td>\n",
       "      <td>...</td>\n",
       "      <td>&lt;NA&gt;</td>\n",
       "      <td>D</td>\n",
       "      <td>F</td>\n",
       "      <td>Fora do prazo</td>\n",
       "      <td>Não Encerrado</td>\n",
       "      <td>Andamento</td>\n",
       "      <td>None</td>\n",
       "      <td>0</td>\n",
       "      <td>2023-04-01</td>\n",
       "      <td>POINT(-43.1872883 -22.9211226)</td>\n",
       "    </tr>\n",
       "    <tr>\n",
       "      <th>...</th>\n",
       "      <td>...</td>\n",
       "      <td>...</td>\n",
       "      <td>...</td>\n",
       "      <td>...</td>\n",
       "      <td>...</td>\n",
       "      <td>...</td>\n",
       "      <td>...</td>\n",
       "      <td>...</td>\n",
       "      <td>...</td>\n",
       "      <td>...</td>\n",
       "      <td>...</td>\n",
       "      <td>...</td>\n",
       "      <td>...</td>\n",
       "      <td>...</td>\n",
       "      <td>...</td>\n",
       "      <td>...</td>\n",
       "      <td>...</td>\n",
       "      <td>...</td>\n",
       "      <td>...</td>\n",
       "      <td>...</td>\n",
       "      <td>...</td>\n",
       "    </tr>\n",
       "    <tr>\n",
       "      <th>68</th>\n",
       "      <td>18516249</td>\n",
       "      <td>2023-04-01 00:59:40</td>\n",
       "      <td>NaT</td>\n",
       "      <td>144</td>\n",
       "      <td>5</td>\n",
       "      <td>24166</td>\n",
       "      <td>43</td>\n",
       "      <td>70</td>\n",
       "      <td>GM-RIO - Guarda Municipal do Rio de Janeiro</td>\n",
       "      <td>GM-RIO - Guarda Municipal do Rio de Janeiro</td>\n",
       "      <td>...</td>\n",
       "      <td>&lt;NA&gt;</td>\n",
       "      <td>D</td>\n",
       "      <td>F</td>\n",
       "      <td>Fora do prazo</td>\n",
       "      <td>Não Encerrado</td>\n",
       "      <td>Andamento</td>\n",
       "      <td>None</td>\n",
       "      <td>0</td>\n",
       "      <td>2023-04-01</td>\n",
       "      <td>POINT(-43.563247 -22.8796648)</td>\n",
       "    </tr>\n",
       "    <tr>\n",
       "      <th>69</th>\n",
       "      <td>18516195</td>\n",
       "      <td>2023-04-01 00:07:07</td>\n",
       "      <td>NaT</td>\n",
       "      <td>145</td>\n",
       "      <td>5</td>\n",
       "      <td>29850</td>\n",
       "      <td>118</td>\n",
       "      <td>70</td>\n",
       "      <td>GM-RIO - Guarda Municipal do Rio de Janeiro</td>\n",
       "      <td>GM-RIO - Guarda Municipal do Rio de Janeiro</td>\n",
       "      <td>...</td>\n",
       "      <td>&lt;NA&gt;</td>\n",
       "      <td>D</td>\n",
       "      <td>F</td>\n",
       "      <td>Fora do prazo</td>\n",
       "      <td>Não Encerrado</td>\n",
       "      <td>Andamento</td>\n",
       "      <td>None</td>\n",
       "      <td>0</td>\n",
       "      <td>2023-04-01</td>\n",
       "      <td>POINT(-43.537462 -22.891154)</td>\n",
       "    </tr>\n",
       "    <tr>\n",
       "      <th>70</th>\n",
       "      <td>18516207</td>\n",
       "      <td>2023-04-01 00:13:28</td>\n",
       "      <td>NaT</td>\n",
       "      <td>144</td>\n",
       "      <td>5</td>\n",
       "      <td>93955</td>\n",
       "      <td>68</td>\n",
       "      <td>118</td>\n",
       "      <td>COMLURB - Companhia Municipal de Limpeza Urbana</td>\n",
       "      <td>COMLURB - Companhia Municipal de Limpeza Urbana</td>\n",
       "      <td>...</td>\n",
       "      <td>&lt;NA&gt;</td>\n",
       "      <td>D</td>\n",
       "      <td>D</td>\n",
       "      <td>Fora do prazo</td>\n",
       "      <td>Não Encerrado</td>\n",
       "      <td>Andamento</td>\n",
       "      <td>None</td>\n",
       "      <td>0</td>\n",
       "      <td>2023-04-01</td>\n",
       "      <td>None</td>\n",
       "    </tr>\n",
       "    <tr>\n",
       "      <th>71</th>\n",
       "      <td>18516211</td>\n",
       "      <td>2023-04-01 00:14:51</td>\n",
       "      <td>NaT</td>\n",
       "      <td>148</td>\n",
       "      <td>5</td>\n",
       "      <td>119529</td>\n",
       "      <td>37</td>\n",
       "      <td>70</td>\n",
       "      <td>GM-RIO - Guarda Municipal do Rio de Janeiro</td>\n",
       "      <td>GM-RIO - Guarda Municipal do Rio de Janeiro</td>\n",
       "      <td>...</td>\n",
       "      <td>&lt;NA&gt;</td>\n",
       "      <td>D</td>\n",
       "      <td>F</td>\n",
       "      <td>Fora do prazo</td>\n",
       "      <td>Não Encerrado</td>\n",
       "      <td>Andamento</td>\n",
       "      <td>None</td>\n",
       "      <td>0</td>\n",
       "      <td>2023-04-01</td>\n",
       "      <td>None</td>\n",
       "    </tr>\n",
       "    <tr>\n",
       "      <th>72</th>\n",
       "      <td>18516214</td>\n",
       "      <td>2023-04-01 00:16:42</td>\n",
       "      <td>NaT</td>\n",
       "      <td>148</td>\n",
       "      <td>5</td>\n",
       "      <td>119644</td>\n",
       "      <td>&lt;NA&gt;</td>\n",
       "      <td>8</td>\n",
       "      <td>RIOLUZ - Companhia Municipal de Energia e Ilum...</td>\n",
       "      <td>RIOLUZ - Companhia Municipal de Energia e Ilum...</td>\n",
       "      <td>...</td>\n",
       "      <td>&lt;NA&gt;</td>\n",
       "      <td>D</td>\n",
       "      <td>F</td>\n",
       "      <td>Fora do prazo</td>\n",
       "      <td>Não Encerrado</td>\n",
       "      <td>Andamento</td>\n",
       "      <td>None</td>\n",
       "      <td>0</td>\n",
       "      <td>2023-04-01</td>\n",
       "      <td>None</td>\n",
       "    </tr>\n",
       "  </tbody>\n",
       "</table>\n",
       "<p>73 rows × 32 columns</p>\n",
       "</div>"
      ],
      "text/plain": [
       "   id_chamado         data_inicio            data_fim id_bairro  \\\n",
       "0    18516246 2023-04-01 00:55:38 2023-04-01 00:55:38      None   \n",
       "1    18516254 2023-04-01 01:08:04 2023-04-01 01:43:38         1   \n",
       "2    18516194 2023-04-01 00:04:59                 NaT        14   \n",
       "3    18516238 2023-04-01 00:38:22                 NaT         5   \n",
       "4    18516208 2023-04-01 00:14:00                 NaT        14   \n",
       "..        ...                 ...                 ...       ...   \n",
       "68   18516249 2023-04-01 00:59:40                 NaT       144   \n",
       "69   18516195 2023-04-01 00:07:07                 NaT       145   \n",
       "70   18516207 2023-04-01 00:13:28                 NaT       144   \n",
       "71   18516211 2023-04-01 00:14:51                 NaT       148   \n",
       "72   18516214 2023-04-01 00:16:42                 NaT       148   \n",
       "\n",
       "   id_territorialidade id_logradouro  numero_logradouro  \\\n",
       "0                 None          None               <NA>   \n",
       "1                    1         62364                 60   \n",
       "2                    1         76992                120   \n",
       "3                    1         60483                319   \n",
       "4                    1         76992                 90   \n",
       "..                 ...           ...                ...   \n",
       "68                   5         24166                 43   \n",
       "69                   5         29850                118   \n",
       "70                   5         93955                 68   \n",
       "71                   5        119529                 37   \n",
       "72                   5        119644               <NA>   \n",
       "\n",
       "   id_unidade_organizacional  \\\n",
       "0                       1706   \n",
       "1                         70   \n",
       "2                       1240   \n",
       "3                       1258   \n",
       "4                         82   \n",
       "..                       ...   \n",
       "68                        70   \n",
       "69                        70   \n",
       "70                       118   \n",
       "71                        70   \n",
       "72                         8   \n",
       "\n",
       "                          nome_unidade_organizacional  \\\n",
       "0   TR/SUBOP/CFT - Coordenadoria de Fiscalização e...   \n",
       "1         GM-RIO - Guarda Municipal do Rio de Janeiro   \n",
       "2                    CCU - 1º Serviço de Fiscalização   \n",
       "3                         CFE - Coordenação de Feiras   \n",
       "4   CLF - Coordenadoria de Licenciamento e Fiscali...   \n",
       "..                                                ...   \n",
       "68        GM-RIO - Guarda Municipal do Rio de Janeiro   \n",
       "69        GM-RIO - Guarda Municipal do Rio de Janeiro   \n",
       "70    COMLURB - Companhia Municipal de Limpeza Urbana   \n",
       "71        GM-RIO - Guarda Municipal do Rio de Janeiro   \n",
       "72  RIOLUZ - Companhia Municipal de Energia e Ilum...   \n",
       "\n",
       "                        id_unidade_organizacional_mae  ... tempo_prazo  \\\n",
       "0          SMTR - Secretaria Municipal de Transportes  ...        <NA>   \n",
       "1         GM-RIO - Guarda Municipal do Rio de Janeiro  ...        <NA>   \n",
       "2              CCU - Coordenadoria de Controle Urbano  ...        <NA>   \n",
       "3        SEOP - Secretaria Municipal de Ordem Pública  ...        <NA>   \n",
       "4   CLF - Coordenadoria de Licenciamento e Fiscali...  ...        <NA>   \n",
       "..                                                ...  ...         ...   \n",
       "68        GM-RIO - Guarda Municipal do Rio de Janeiro  ...        <NA>   \n",
       "69        GM-RIO - Guarda Municipal do Rio de Janeiro  ...        <NA>   \n",
       "70    COMLURB - Companhia Municipal de Limpeza Urbana  ...        <NA>   \n",
       "71        GM-RIO - Guarda Municipal do Rio de Janeiro  ...        <NA>   \n",
       "72  RIOLUZ - Companhia Municipal de Energia e Ilum...  ...        <NA>   \n",
       "\n",
       "   prazo_unidade prazo_tipo   dentro_prazo       situacao  \\\n",
       "0              D          F       No prazo      Encerrado   \n",
       "1              H          F       No prazo      Encerrado   \n",
       "2              D          F  Fora do prazo  Não Encerrado   \n",
       "3              D          F  Fora do prazo  Não Encerrado   \n",
       "4              D          F  Fora do prazo  Não Encerrado   \n",
       "..           ...        ...            ...            ...   \n",
       "68             D          F  Fora do prazo  Não Encerrado   \n",
       "69             D          F  Fora do prazo  Não Encerrado   \n",
       "70             D          D  Fora do prazo  Não Encerrado   \n",
       "71             D          F  Fora do prazo  Não Encerrado   \n",
       "72             D          F  Fora do prazo  Não Encerrado   \n",
       "\n",
       "            tipo_situacao justificativa_status  reclamacoes  data_particao  \\\n",
       "0   Atendido parcialmente                 None            0     2023-04-01   \n",
       "1          Não constatado                 None            0     2023-04-01   \n",
       "2               Andamento                 None            0     2023-04-01   \n",
       "3               Andamento                 None            0     2023-04-01   \n",
       "4               Andamento                 None            0     2023-04-01   \n",
       "..                    ...                  ...          ...            ...   \n",
       "68              Andamento                 None            0     2023-04-01   \n",
       "69              Andamento                 None            0     2023-04-01   \n",
       "70              Andamento                 None            0     2023-04-01   \n",
       "71              Andamento                 None            0     2023-04-01   \n",
       "72              Andamento                 None            0     2023-04-01   \n",
       "\n",
       "                          geometry  \n",
       "0                             None  \n",
       "1                             None  \n",
       "2     POINT(-43.186679 -22.921335)  \n",
       "3   POINT(-43.1882526 -22.9122295)  \n",
       "4   POINT(-43.1872883 -22.9211226)  \n",
       "..                             ...  \n",
       "68   POINT(-43.563247 -22.8796648)  \n",
       "69    POINT(-43.537462 -22.891154)  \n",
       "70                            None  \n",
       "71                            None  \n",
       "72                            None  \n",
       "\n",
       "[73 rows x 32 columns]"
      ]
     },
     "execution_count": 8,
     "metadata": {},
     "output_type": "execute_result"
    }
   ],
   "source": [
    "df_chamado"
   ]
  },
  {
   "cell_type": "markdown",
   "metadata": {},
   "source": [
    "``Resposta:`` Como cada linha da consulta é referente a um chamado realizado no dia, logo, podemos verificar que houveram 73 chamados no dia 01/04/2023"
   ]
  },
  {
   "cell_type": "markdown",
   "metadata": {},
   "source": [
    "### Questão 2\n",
    "\n",
    "Qual o tipo de chamado que teve mais reclamações no dia 01/04/2023?"
   ]
  },
  {
   "cell_type": "markdown",
   "metadata": {},
   "source": [
    "Primeiro vejamos quais são as colunas existentes no nosso dataframe:"
   ]
  },
  {
   "cell_type": "code",
   "execution_count": 11,
   "metadata": {},
   "outputs": [
    {
     "data": {
      "text/plain": [
       "['categoria',\n",
       " 'data_alvo_diagnostico',\n",
       " 'data_alvo_finalizacao',\n",
       " 'data_fim',\n",
       " 'data_inicio',\n",
       " 'data_particao',\n",
       " 'data_real_diagnostico',\n",
       " 'dentro_prazo',\n",
       " 'geometry',\n",
       " 'id_bairro',\n",
       " 'id_chamado',\n",
       " 'id_logradouro',\n",
       " 'id_subtipo',\n",
       " 'id_territorialidade',\n",
       " 'id_tipo',\n",
       " 'id_unidade_organizacional',\n",
       " 'id_unidade_organizacional_mae',\n",
       " 'justificativa_status',\n",
       " 'latitude',\n",
       " 'longitude',\n",
       " 'nome_unidade_organizacional',\n",
       " 'numero_logradouro',\n",
       " 'prazo_tipo',\n",
       " 'prazo_unidade',\n",
       " 'reclamacoes',\n",
       " 'situacao',\n",
       " 'status',\n",
       " 'subtipo',\n",
       " 'tempo_prazo',\n",
       " 'tipo',\n",
       " 'tipo_situacao',\n",
       " 'unidade_organizacional_ouvidoria']"
      ]
     },
     "execution_count": 11,
     "metadata": {},
     "output_type": "execute_result"
    }
   ],
   "source": [
    "sorted(df_chamado.keys())"
   ]
  },
  {
   "cell_type": "markdown",
   "metadata": {},
   "source": [
    "De acordo com a descrição do GCP, podemos concluir que a coluna ``'tipo'`` conterá a informação para responder esta questão."
   ]
  },
  {
   "cell_type": "code",
   "execution_count": 22,
   "metadata": {},
   "outputs": [
    {
     "data": {
      "text/plain": [
       "Poluição sonora             24\n",
       "Estacionamento Irregular     9\n",
       "Iluminação Pública           8\n",
       "Remoção Gratuita             5\n",
       "Limpeza                      5\n",
       "Postura Municipal            4\n",
       "Ocupação de área pública     3\n",
       "Pavimentação                 3\n",
       "Comlurb - Vetores            2\n",
       "Fiscalização de obras        2\n",
       "Manejo Arbóreo               2\n",
       "Programa Cegonha Carioca     1\n",
       "Ônibus                       1\n",
       "Drenagem e Saneamento        1\n",
       "Feiras                       1\n",
       "Comércio ambulante           1\n",
       "Semáforo                     1\n",
       "Name: tipo, dtype: int64"
      ]
     },
     "execution_count": 22,
     "metadata": {},
     "output_type": "execute_result"
    }
   ],
   "source": [
    "df_chamado['tipo'].value_counts()"
   ]
  },
  {
   "cell_type": "markdown",
   "metadata": {},
   "source": [
    "``Resposta:`` Realizando a contagem dos valores repetidos na coluna ``'tipo'`` do nosso dataframe, podemos verificar que o tipo de chamado mais frequente no dia 01/04/2023 é ``Poluição sonora``, contendo 24 chamados"
   ]
  },
  {
   "cell_type": "markdown",
   "metadata": {},
   "source": [
    "### Questão 3\n",
    "\n",
    "Quais os nomes dos 3 bairros que mais tiveram chamados abertos nesse dia?"
   ]
  },
  {
   "cell_type": "markdown",
   "metadata": {},
   "source": [
    "Realizando a consulta e armazenando os dados de ``bairro`` em um dataframe:"
   ]
  },
  {
   "cell_type": "code",
   "execution_count": null,
   "metadata": {},
   "outputs": [
    {
     "name": "stderr",
     "output_type": "stream",
     "text": [
      "Downloading: 100%|██████████| 164/164 [00:11<00:00, 14.22rows/s]\n"
     ]
    }
   ],
   "source": [
    "query = \"SELECT * FROM `datario.dados_mestres.bairro`\"\n",
    "df_bairro = bd.read_sql(query, billing_project_id=\"teste-dados-rio-brendow\")"
   ]
  },
  {
   "cell_type": "markdown",
   "metadata": {},
   "source": [
    "Verificando os ``'id_bairro'`` que mais se repetem entre os chamados:"
   ]
  },
  {
   "cell_type": "code",
   "execution_count": 48,
   "metadata": {},
   "outputs": [
    {
     "data": {
      "text/plain": [
       "['66', '26', '144']"
      ]
     },
     "execution_count": 48,
     "metadata": {},
     "output_type": "execute_result"
    }
   ],
   "source": [
    "id_bairros_max_chamados = df_chamado['id_bairro'].value_counts().nlargest(3).index.tolist()\n",
    "id_bairros_max_chamados"
   ]
  },
  {
   "cell_type": "code",
   "execution_count": 49,
   "metadata": {},
   "outputs": [
    {
     "data": {
      "text/plain": [
       "['Leblon', 'Engenho de Dentro', 'Campo Grande']"
      ]
     },
     "execution_count": 49,
     "metadata": {},
     "output_type": "execute_result"
    }
   ],
   "source": [
    "bairros_max_chamados = df_bairro.loc[df_bairro['id_bairro'].isin(id_bairros_max_chamados)]['nome'].tolist()\n",
    "bairros_max_chamados"
   ]
  },
  {
   "cell_type": "markdown",
   "metadata": {},
   "source": [
    "``Resposta:`` Os bairros que mais possuem chamados no dia 01/04/2023 são: ``'Leblon'``, ``'Engenho de Dentro'``, ``'Campo Grande'``"
   ]
  },
  {
   "cell_type": "markdown",
   "metadata": {},
   "source": [
    "### Questão 4\n",
    "\n",
    "Qual o nome da subprefeitura com mais chamados abertos nesse dia?"
   ]
  },
  {
   "cell_type": "code",
   "execution_count": 53,
   "metadata": {},
   "outputs": [
    {
     "data": {
      "text/plain": [
       "['Zona Norte']"
      ]
     },
     "execution_count": 53,
     "metadata": {},
     "output_type": "execute_result"
    }
   ],
   "source": [
    "subprefeitura_max_chamados = df_bairro.loc[df_bairro['id_bairro'].isin([id_bairros_max_chamados[0]])]['subprefeitura'].tolist()\n",
    "subprefeitura_max_chamados"
   ]
  },
  {
   "cell_type": "markdown",
   "metadata": {},
   "source": [
    "``Resposta:`` A subprefeitura com maior número de chamados no dia 01/04/2023 foi a da ``'Zona Norte'``"
   ]
  },
  {
   "cell_type": "markdown",
   "metadata": {},
   "source": [
    "### Questão 5\n",
    "\n",
    "Existe algum chamado aberto nesse dia que não foi associado a um bairro ou subprefeitura na tabela de bairros? Se sim, por que isso acontece?"
   ]
  },
  {
   "cell_type": "code",
   "execution_count": 64,
   "metadata": {},
   "outputs": [
    {
     "data": {
      "text/plain": [
       "{'tipo': 'Ônibus',\n",
       " 'subtipo': 'Verificação de ar condicionado inoperante no ônibus'}"
      ]
     },
     "execution_count": 64,
     "metadata": {},
     "output_type": "execute_result"
    }
   ],
   "source": [
    "chamado_no_b_or_sub = df_chamado[df_chamado['id_bairro'].isna()].to_dict()\n",
    "{'tipo': chamado_no_b_or_sub['tipo'][0],'subtipo': chamado_no_b_or_sub['subtipo'][0]}"
   ]
  },
  {
   "cell_type": "markdown",
   "metadata": {},
   "source": [
    "``Resposta:`` O chamado não foi associado a um bairro ou subprefeitura pois trata-se de um registro referente à ``'Verificação de ar condicionado inoperante no ônibus'``, logo não podendo ser atribuído a nenhuma localidade."
   ]
  }
 ],
 "metadata": {
  "kernelspec": {
   "display_name": "Python 3",
   "language": "python",
   "name": "python3"
  },
  "language_info": {
   "codemirror_mode": {
    "name": "ipython",
    "version": 3
   },
   "file_extension": ".py",
   "mimetype": "text/x-python",
   "name": "python",
   "nbconvert_exporter": "python",
   "pygments_lexer": "ipython3",
   "version": "3.10.12"
  }
 },
 "nbformat": 4,
 "nbformat_minor": 2
}
